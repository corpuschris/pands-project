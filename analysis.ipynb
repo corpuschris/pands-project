{
 "cells": [
  {
   "cell_type": "code",
   "execution_count": null,
   "metadata": {},
   "outputs": [],
   "source": [
    "{\n",
    " \"cells\": [\n",
    "  {\n",
    "   \"cell_type\": \"markdown\",\n",
    "   \"metadata\": {},\n",
    "   \"source\": [\n",
    "    \"# Higher Diploma in Science in Computing - Data Analytics\\n\",\n",
    "    \"### Author: Christiano Ferreira\\n\",\n",
    "    \"\\n\",\n",
    "    \"***\\n\",\n",
    "    \"\\n\",\n",
    "    \"### Programming and Scripting - Fisher’s Iris\\n\",\n",
    "    \"\\n\",\n",
    "    \"\\n\",\n",
    "    \"***\"\n",
    "   ]\n",
    "  },\n",
    "  {\n",
    "  \"cell_type\": \"markdown\",\n",
    "  \"metadata\": {},\n",
    "  \"source\": [\n",
    "    \"### Imports\\n\",\n",
    "    \"***\\n\",\n",
    "    \"\\n\",\n",
    "    \"#### This project relies on key libraries for data loading, manipulation, and visualization:\\n\",\n",
    "    \"***\\n\",\n",
    "    \"\\n\",\n",
    "    \"* **Pandas**: Essential for data handling and analysis.\\n\",\n",
    "    \"* **Numpy**: Enables efficient array operations and mathematical tasks.\\n\",\n",
    "    \"* **Matplotlib**: Provides versatile plotting capabilities.\\n\",\n",
    "    \"* **Seaborn**: Simplifies creation of attractive statistical graphics.\"\n",
    "  ]\n",
    "  }\n",
    " ]\n",
    "}\n"
   ]
  }
 ],
 "metadata": {
  "language_info": {
   "name": "python"
  }
 },
 "nbformat": 4,
 "nbformat_minor": 2
}
